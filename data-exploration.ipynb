{
 "cells": [
  {
   "cell_type": "markdown",
   "source": [
    "# Data Explanation\n",
    "\n",
    "### 1. Load the Data into a Pandas DataFrame"
   ],
   "metadata": {
    "collapsed": false
   }
  },
  {
   "cell_type": "code",
   "execution_count": 1,
   "outputs": [],
   "source": [
    "# imports\n",
    "import pandas as pd\n",
    "from sklearn.preprocessing import StandardScaler"
   ],
   "metadata": {
    "collapsed": false
   }
  },
  {
   "cell_type": "markdown",
   "source": [
    "##### Step 1: Check the Column Names"
   ],
   "metadata": {
    "collapsed": false
   }
  },
  {
   "cell_type": "code",
   "execution_count": 1,
   "outputs": [
    {
     "name": "stdout",
     "output_type": "stream",
     "text": [
      "['duration', 'protocol_type', 'service', 'flag', 'src_bytes', 'dst_bytes', 'land', 'wrong_fragment', 'urgent', 'hot', 'num_failed_logins', 'logged_in', 'num_compromised', 'root_shell', 'su_attempted', 'num_root', 'num_file_creations', 'num_shells', 'num_access_files', 'num_outbound_cmds', 'is_host_login', 'is_guest_login', 'count', 'srv_count', 'serror_rate', 'srv_serror_rate', 'rerror_rate', 'srv_rerror_rate', 'same_srv_rate', 'diff_srv_rate', 'srv_diff_host_rate', 'dst_host_count', 'dst_host_srv_count', 'dst_host_same_srv_rate', 'dst_host_diff_srv_rate', 'dst_host_same_src_port_rate', 'dst_host_srv_diff_host_rate', 'dst_host_serror_rate', 'dst_host_srv_serror_rate', 'dst_host_rerror_rate', 'dst_host_srv_rerror_rate', 'label']\n"
     ]
    }
   ],
   "source": [
    "# Open and read the kddcup.names file\n",
    "with open('data/kddcup.names', 'r') as file:\n",
    "    # Read lines and exclude the first line which is not a column name\n",
    "    lines = file.readlines()[1:]\n",
    "\n",
    "# Extract column names from each line\n",
    "column_names = [line.split(\":\")[0] for line in lines]\n",
    "\n",
    "# The dataset also has a 'label' column which represents the type of network interaction or attack type\n",
    "column_names.append(\"label\")\n",
    "\n",
    "print(column_names)"
   ],
   "metadata": {
    "collapsed": false
   }
  },
  {
   "cell_type": "markdown",
   "source": [
    "The KDD Cup 1999 dataset is one of the most widely-used datasets for intrusion detection research. It contains a variety of features related to network connections, both basic and content features. Here's a breakdown of the columns and their descriptions:\n",
    "\n",
    "### Basic Features:\n",
    "\n",
    "1. **duration**: Continuous. Represents the number of seconds of the connection.\n",
    "2. **protocol_type**: Categorical. The type of the protocol. Examples include `tcp`, `udp`, and `icmp`.\n",
    "3. **service**: Categorical. The network service on the destination, e.g., `http`, `telnet`, etc.\n",
    "4. **flag**: Categorical. Status of the connection, e.g., `SF` (normal), `S0` (connection attempt seen, no reply), etc.\n",
    "5. **src_bytes**: Continuous. Number of data bytes from source to destination.\n",
    "6. **dst_bytes**: Continuous. Number of data bytes from destination to source.\n",
    "7. **land**: Binary. `1` if the connection is from/to the same host/port, `0` otherwise.\n",
    "8. **wrong_fragment**: Continuous. Number of \"wrong\" fragments.\n",
    "9. **urgent**: Continuous. Number of urgent packets.\n",
    "\n",
    "### Content Features:\n",
    "\n",
    "These features are derived from the connection's data payload.\n",
    "\n",
    "10. **hot**: Continuous. Number of \"hot\" indicators.\n",
    "11. **num_failed_logins**: Continuous. Number of failed login attempts.\n",
    "12. **logged_in**: Binary. `1` if successfully logged in, `0` otherwise.\n",
    "13. **num_compromised**: Continuous. Number of \"compromised\" conditions.\n",
    "14. **root_shell**: Binary. `1` if root shell is obtained, `0` otherwise.\n",
    "15. **su_attempted**: Binary. `1` if \"su root\" command attempted, `0` otherwise.\n",
    "16. **num_root**: Continuous. Number of root accesses.\n",
    "17. **num_file_creations**: Continuous. Number of file creation operations.\n",
    "18. **num_shells**: Continuous. Number of shell prompts.\n",
    "19. **num_access_files**: Continuous. Number of operations on access control files.\n",
    "20. **num_outbound_cmds**: Continuous. Number of outbound commands in an FTP session.\n",
    "21. **is_host_login**: Binary. `1` if the login belongs to the \"host\" list, `0` otherwise.\n",
    "22. **is_guest_login**: Binary. `1` if the login is a \"guest\" login, `0` otherwise.\n",
    "\n",
    "### Time-based Traffic Features:\n",
    "\n",
    "These features are computed using a two-second time window.\n",
    "\n",
    "23. **count**: Continuous. Number of connections to the same host as the current connection in the past two seconds.\n",
    "24. **srv_count**: Continuous. Number of connections to the same service (e.g., HTTP) as the current connection in the past two seconds.\n",
    "25. **serror_rate**: Continuous. Percentage of connections that have \"SYN\" errors.\n",
    "26. **srv_serror_rate**: Continuous. Percentage of connections that have \"SYN\" errors to the same service.\n",
    "27. **rerror_rate**: Continuous. Percentage of connections that have \"REJ\" errors.\n",
    "28. **srv_rerror_rate**: Continuous. Percentage of connections that have \"REJ\" errors to the same service.\n",
    "29. **same_srv_rate**: Continuous. Percentage of connections to the same service.\n",
    "30. **diff_srv_rate**: Continuous. Percentage of connections to different services.\n",
    "31. **srv_diff_host_rate**: Continuous. Percentage of connections to different hosts.\n",
    "\n",
    "### Host-based Traffic Features:\n",
    "\n",
    "These features are designed to assess the behavior of the connection data over a much longer period, typically hours.\n",
    "\n",
    "32-41: Various counts and percentages related to connections with the same host, different services, and other features over a longer time window.\n",
    "\n",
    "Finally,\n",
    "\n",
    "42. **label**: Categorical. The type of network interaction or specific attack type, e.g., \"normal.\", \"smurf.\", \"neptune.\", etc."
   ],
   "metadata": {
    "collapsed": false
   }
  },
  {
   "cell_type": "markdown",
   "source": [
    "Given that the main dataset is compressed (kddcup.data.gz), we'll use Pandas to directly read from the gzipped file."
   ],
   "metadata": {
    "collapsed": false
   }
  },
  {
   "cell_type": "code",
   "execution_count": 3,
   "outputs": [
    {
     "data": {
      "text/plain": "   duration protocol_type service flag  src_bytes  dst_bytes  land  \\\n0         0           tcp    http   SF        215      45076     0   \n1         0           tcp    http   SF        162       4528     0   \n2         0           tcp    http   SF        236       1228     0   \n3         0           tcp    http   SF        233       2032     0   \n4         0           tcp    http   SF        239        486     0   \n\n   wrong_fragment  urgent  hot  ...  dst_host_srv_count  \\\n0               0       0    0  ...                   0   \n1               0       0    0  ...                   1   \n2               0       0    0  ...                   2   \n3               0       0    0  ...                   3   \n4               0       0    0  ...                   4   \n\n   dst_host_same_srv_rate  dst_host_diff_srv_rate  \\\n0                     0.0                     0.0   \n1                     1.0                     0.0   \n2                     1.0                     0.0   \n3                     1.0                     0.0   \n4                     1.0                     0.0   \n\n   dst_host_same_src_port_rate  dst_host_srv_diff_host_rate  \\\n0                         0.00                          0.0   \n1                         1.00                          0.0   \n2                         0.50                          0.0   \n3                         0.33                          0.0   \n4                         0.25                          0.0   \n\n   dst_host_serror_rate  dst_host_srv_serror_rate  dst_host_rerror_rate  \\\n0                   0.0                       0.0                   0.0   \n1                   0.0                       0.0                   0.0   \n2                   0.0                       0.0                   0.0   \n3                   0.0                       0.0                   0.0   \n4                   0.0                       0.0                   0.0   \n\n   dst_host_srv_rerror_rate    label  \n0                       0.0  normal.  \n1                       0.0  normal.  \n2                       0.0  normal.  \n3                       0.0  normal.  \n4                       0.0  normal.  \n\n[5 rows x 42 columns]",
      "text/html": "<div>\n<style scoped>\n    .dataframe tbody tr th:only-of-type {\n        vertical-align: middle;\n    }\n\n    .dataframe tbody tr th {\n        vertical-align: top;\n    }\n\n    .dataframe thead th {\n        text-align: right;\n    }\n</style>\n<table border=\"1\" class=\"dataframe\">\n  <thead>\n    <tr style=\"text-align: right;\">\n      <th></th>\n      <th>duration</th>\n      <th>protocol_type</th>\n      <th>service</th>\n      <th>flag</th>\n      <th>src_bytes</th>\n      <th>dst_bytes</th>\n      <th>land</th>\n      <th>wrong_fragment</th>\n      <th>urgent</th>\n      <th>hot</th>\n      <th>...</th>\n      <th>dst_host_srv_count</th>\n      <th>dst_host_same_srv_rate</th>\n      <th>dst_host_diff_srv_rate</th>\n      <th>dst_host_same_src_port_rate</th>\n      <th>dst_host_srv_diff_host_rate</th>\n      <th>dst_host_serror_rate</th>\n      <th>dst_host_srv_serror_rate</th>\n      <th>dst_host_rerror_rate</th>\n      <th>dst_host_srv_rerror_rate</th>\n      <th>label</th>\n    </tr>\n  </thead>\n  <tbody>\n    <tr>\n      <th>0</th>\n      <td>0</td>\n      <td>tcp</td>\n      <td>http</td>\n      <td>SF</td>\n      <td>215</td>\n      <td>45076</td>\n      <td>0</td>\n      <td>0</td>\n      <td>0</td>\n      <td>0</td>\n      <td>...</td>\n      <td>0</td>\n      <td>0.0</td>\n      <td>0.0</td>\n      <td>0.00</td>\n      <td>0.0</td>\n      <td>0.0</td>\n      <td>0.0</td>\n      <td>0.0</td>\n      <td>0.0</td>\n      <td>normal.</td>\n    </tr>\n    <tr>\n      <th>1</th>\n      <td>0</td>\n      <td>tcp</td>\n      <td>http</td>\n      <td>SF</td>\n      <td>162</td>\n      <td>4528</td>\n      <td>0</td>\n      <td>0</td>\n      <td>0</td>\n      <td>0</td>\n      <td>...</td>\n      <td>1</td>\n      <td>1.0</td>\n      <td>0.0</td>\n      <td>1.00</td>\n      <td>0.0</td>\n      <td>0.0</td>\n      <td>0.0</td>\n      <td>0.0</td>\n      <td>0.0</td>\n      <td>normal.</td>\n    </tr>\n    <tr>\n      <th>2</th>\n      <td>0</td>\n      <td>tcp</td>\n      <td>http</td>\n      <td>SF</td>\n      <td>236</td>\n      <td>1228</td>\n      <td>0</td>\n      <td>0</td>\n      <td>0</td>\n      <td>0</td>\n      <td>...</td>\n      <td>2</td>\n      <td>1.0</td>\n      <td>0.0</td>\n      <td>0.50</td>\n      <td>0.0</td>\n      <td>0.0</td>\n      <td>0.0</td>\n      <td>0.0</td>\n      <td>0.0</td>\n      <td>normal.</td>\n    </tr>\n    <tr>\n      <th>3</th>\n      <td>0</td>\n      <td>tcp</td>\n      <td>http</td>\n      <td>SF</td>\n      <td>233</td>\n      <td>2032</td>\n      <td>0</td>\n      <td>0</td>\n      <td>0</td>\n      <td>0</td>\n      <td>...</td>\n      <td>3</td>\n      <td>1.0</td>\n      <td>0.0</td>\n      <td>0.33</td>\n      <td>0.0</td>\n      <td>0.0</td>\n      <td>0.0</td>\n      <td>0.0</td>\n      <td>0.0</td>\n      <td>normal.</td>\n    </tr>\n    <tr>\n      <th>4</th>\n      <td>0</td>\n      <td>tcp</td>\n      <td>http</td>\n      <td>SF</td>\n      <td>239</td>\n      <td>486</td>\n      <td>0</td>\n      <td>0</td>\n      <td>0</td>\n      <td>0</td>\n      <td>...</td>\n      <td>4</td>\n      <td>1.0</td>\n      <td>0.0</td>\n      <td>0.25</td>\n      <td>0.0</td>\n      <td>0.0</td>\n      <td>0.0</td>\n      <td>0.0</td>\n      <td>0.0</td>\n      <td>normal.</td>\n    </tr>\n  </tbody>\n</table>\n<p>5 rows × 42 columns</p>\n</div>"
     },
     "execution_count": 3,
     "metadata": {},
     "output_type": "execute_result"
    }
   ],
   "source": [
    "# Load the main dataset\n",
    "data_path = \"data/kddcup.data.gz\"\n",
    "column_names = pd.read_csv(\"data/kddcup.names\", sep=\":\", skiprows=1, header=None)[0].tolist()  # Extracting feature names\n",
    "column_names.append(\"label\")  # The last column is the label\n",
    "df = pd.read_csv(data_path, header=None, names=column_names)\n",
    "\n",
    "# Display the first few rows to get an overview\n",
    "df.head()"
   ],
   "metadata": {
    "collapsed": false
   }
  },
  {
   "cell_type": "markdown",
   "source": [
    "## 2. Familiarize with the Data Structure\n",
    "\n",
    "#### a. Basic Information"
   ],
   "metadata": {
    "collapsed": false
   }
  },
  {
   "cell_type": "code",
   "execution_count": 4,
   "outputs": [
    {
     "name": "stdout",
     "output_type": "stream",
     "text": [
      "<class 'pandas.core.frame.DataFrame'>\n",
      "RangeIndex: 4898431 entries, 0 to 4898430\n",
      "Data columns (total 42 columns):\n",
      " #   Column                       Dtype  \n",
      "---  ------                       -----  \n",
      " 0   duration                     int64  \n",
      " 1   protocol_type                object \n",
      " 2   service                      object \n",
      " 3   flag                         object \n",
      " 4   src_bytes                    int64  \n",
      " 5   dst_bytes                    int64  \n",
      " 6   land                         int64  \n",
      " 7   wrong_fragment               int64  \n",
      " 8   urgent                       int64  \n",
      " 9   hot                          int64  \n",
      " 10  num_failed_logins            int64  \n",
      " 11  logged_in                    int64  \n",
      " 12  num_compromised              int64  \n",
      " 13  root_shell                   int64  \n",
      " 14  su_attempted                 int64  \n",
      " 15  num_root                     int64  \n",
      " 16  num_file_creations           int64  \n",
      " 17  num_shells                   int64  \n",
      " 18  num_access_files             int64  \n",
      " 19  num_outbound_cmds            int64  \n",
      " 20  is_host_login                int64  \n",
      " 21  is_guest_login               int64  \n",
      " 22  count                        int64  \n",
      " 23  srv_count                    int64  \n",
      " 24  serror_rate                  float64\n",
      " 25  srv_serror_rate              float64\n",
      " 26  rerror_rate                  float64\n",
      " 27  srv_rerror_rate              float64\n",
      " 28  same_srv_rate                float64\n",
      " 29  diff_srv_rate                float64\n",
      " 30  srv_diff_host_rate           float64\n",
      " 31  dst_host_count               int64  \n",
      " 32  dst_host_srv_count           int64  \n",
      " 33  dst_host_same_srv_rate       float64\n",
      " 34  dst_host_diff_srv_rate       float64\n",
      " 35  dst_host_same_src_port_rate  float64\n",
      " 36  dst_host_srv_diff_host_rate  float64\n",
      " 37  dst_host_serror_rate         float64\n",
      " 38  dst_host_srv_serror_rate     float64\n",
      " 39  dst_host_rerror_rate         float64\n",
      " 40  dst_host_srv_rerror_rate     float64\n",
      " 41  label                        object \n",
      "dtypes: float64(15), int64(23), object(4)\n",
      "memory usage: 1.5+ GB\n"
     ]
    },
    {
     "data": {
      "text/plain": "           duration     src_bytes     dst_bytes          land  wrong_fragment  \\\ncount  4.898431e+06  4.898431e+06  4.898431e+06  4.898431e+06    4.898431e+06   \nmean   4.834243e+01  1.834621e+03  1.093623e+03  5.716116e-06    6.487792e-04   \nstd    7.233298e+02  9.414311e+05  6.450123e+05  2.390833e-03    4.285434e-02   \nmin    0.000000e+00  0.000000e+00  0.000000e+00  0.000000e+00    0.000000e+00   \n25%    0.000000e+00  4.500000e+01  0.000000e+00  0.000000e+00    0.000000e+00   \n50%    0.000000e+00  5.200000e+02  0.000000e+00  0.000000e+00    0.000000e+00   \n75%    0.000000e+00  1.032000e+03  0.000000e+00  0.000000e+00    0.000000e+00   \nmax    5.832900e+04  1.379964e+09  1.309937e+09  1.000000e+00    3.000000e+00   \n\n             urgent           hot  num_failed_logins     logged_in  \\\ncount  4.898431e+06  4.898431e+06       4.898431e+06  4.898431e+06   \nmean   7.961733e-06  1.243766e-02       3.205108e-05  1.435290e-01   \nstd    7.215084e-03  4.689782e-01       7.299408e-03  3.506116e-01   \nmin    0.000000e+00  0.000000e+00       0.000000e+00  0.000000e+00   \n25%    0.000000e+00  0.000000e+00       0.000000e+00  0.000000e+00   \n50%    0.000000e+00  0.000000e+00       0.000000e+00  0.000000e+00   \n75%    0.000000e+00  0.000000e+00       0.000000e+00  0.000000e+00   \nmax    1.400000e+01  7.700000e+01       5.000000e+00  1.000000e+00   \n\n       num_compromised  ...  dst_host_count  dst_host_srv_count  \\\ncount     4.898431e+06  ...    4.898431e+06        4.898431e+06   \nmean      8.088304e-03  ...    2.329811e+02        1.892142e+02   \nstd       3.856481e+00  ...    6.402094e+01        1.059128e+02   \nmin       0.000000e+00  ...    0.000000e+00        0.000000e+00   \n25%       0.000000e+00  ...    2.550000e+02        4.900000e+01   \n50%       0.000000e+00  ...    2.550000e+02        2.550000e+02   \n75%       0.000000e+00  ...    2.550000e+02        2.550000e+02   \nmax       7.479000e+03  ...    2.550000e+02        2.550000e+02   \n\n       dst_host_same_srv_rate  dst_host_diff_srv_rate  \\\ncount            4.898431e+06            4.898431e+06   \nmean             7.537132e-01            3.071111e-02   \nstd              4.111860e-01            1.085432e-01   \nmin              0.000000e+00            0.000000e+00   \n25%              4.100000e-01            0.000000e+00   \n50%              1.000000e+00            0.000000e+00   \n75%              1.000000e+00            4.000000e-02   \nmax              1.000000e+00            1.000000e+00   \n\n       dst_host_same_src_port_rate  dst_host_srv_diff_host_rate  \\\ncount                 4.898431e+06                 4.898431e+06   \nmean                  6.050520e-01                 6.464107e-03   \nstd                   4.809877e-01                 4.125978e-02   \nmin                   0.000000e+00                 0.000000e+00   \n25%                   0.000000e+00                 0.000000e+00   \n50%                   1.000000e+00                 0.000000e+00   \n75%                   1.000000e+00                 0.000000e+00   \nmax                   1.000000e+00                 1.000000e+00   \n\n       dst_host_serror_rate  dst_host_srv_serror_rate  dst_host_rerror_rate  \\\ncount          4.898431e+06              4.898431e+06          4.898431e+06   \nmean           1.780911e-01              1.778859e-01          5.792780e-02   \nstd            3.818382e-01              3.821774e-01          2.309428e-01   \nmin            0.000000e+00              0.000000e+00          0.000000e+00   \n25%            0.000000e+00              0.000000e+00          0.000000e+00   \n50%            0.000000e+00              0.000000e+00          0.000000e+00   \n75%            0.000000e+00              0.000000e+00          0.000000e+00   \nmax            1.000000e+00              1.000000e+00          1.000000e+00   \n\n       dst_host_srv_rerror_rate  \ncount              4.898431e+06  \nmean               5.765941e-02  \nstd                2.309777e-01  \nmin                0.000000e+00  \n25%                0.000000e+00  \n50%                0.000000e+00  \n75%                0.000000e+00  \nmax                1.000000e+00  \n\n[8 rows x 38 columns]",
      "text/html": "<div>\n<style scoped>\n    .dataframe tbody tr th:only-of-type {\n        vertical-align: middle;\n    }\n\n    .dataframe tbody tr th {\n        vertical-align: top;\n    }\n\n    .dataframe thead th {\n        text-align: right;\n    }\n</style>\n<table border=\"1\" class=\"dataframe\">\n  <thead>\n    <tr style=\"text-align: right;\">\n      <th></th>\n      <th>duration</th>\n      <th>src_bytes</th>\n      <th>dst_bytes</th>\n      <th>land</th>\n      <th>wrong_fragment</th>\n      <th>urgent</th>\n      <th>hot</th>\n      <th>num_failed_logins</th>\n      <th>logged_in</th>\n      <th>num_compromised</th>\n      <th>...</th>\n      <th>dst_host_count</th>\n      <th>dst_host_srv_count</th>\n      <th>dst_host_same_srv_rate</th>\n      <th>dst_host_diff_srv_rate</th>\n      <th>dst_host_same_src_port_rate</th>\n      <th>dst_host_srv_diff_host_rate</th>\n      <th>dst_host_serror_rate</th>\n      <th>dst_host_srv_serror_rate</th>\n      <th>dst_host_rerror_rate</th>\n      <th>dst_host_srv_rerror_rate</th>\n    </tr>\n  </thead>\n  <tbody>\n    <tr>\n      <th>count</th>\n      <td>4.898431e+06</td>\n      <td>4.898431e+06</td>\n      <td>4.898431e+06</td>\n      <td>4.898431e+06</td>\n      <td>4.898431e+06</td>\n      <td>4.898431e+06</td>\n      <td>4.898431e+06</td>\n      <td>4.898431e+06</td>\n      <td>4.898431e+06</td>\n      <td>4.898431e+06</td>\n      <td>...</td>\n      <td>4.898431e+06</td>\n      <td>4.898431e+06</td>\n      <td>4.898431e+06</td>\n      <td>4.898431e+06</td>\n      <td>4.898431e+06</td>\n      <td>4.898431e+06</td>\n      <td>4.898431e+06</td>\n      <td>4.898431e+06</td>\n      <td>4.898431e+06</td>\n      <td>4.898431e+06</td>\n    </tr>\n    <tr>\n      <th>mean</th>\n      <td>4.834243e+01</td>\n      <td>1.834621e+03</td>\n      <td>1.093623e+03</td>\n      <td>5.716116e-06</td>\n      <td>6.487792e-04</td>\n      <td>7.961733e-06</td>\n      <td>1.243766e-02</td>\n      <td>3.205108e-05</td>\n      <td>1.435290e-01</td>\n      <td>8.088304e-03</td>\n      <td>...</td>\n      <td>2.329811e+02</td>\n      <td>1.892142e+02</td>\n      <td>7.537132e-01</td>\n      <td>3.071111e-02</td>\n      <td>6.050520e-01</td>\n      <td>6.464107e-03</td>\n      <td>1.780911e-01</td>\n      <td>1.778859e-01</td>\n      <td>5.792780e-02</td>\n      <td>5.765941e-02</td>\n    </tr>\n    <tr>\n      <th>std</th>\n      <td>7.233298e+02</td>\n      <td>9.414311e+05</td>\n      <td>6.450123e+05</td>\n      <td>2.390833e-03</td>\n      <td>4.285434e-02</td>\n      <td>7.215084e-03</td>\n      <td>4.689782e-01</td>\n      <td>7.299408e-03</td>\n      <td>3.506116e-01</td>\n      <td>3.856481e+00</td>\n      <td>...</td>\n      <td>6.402094e+01</td>\n      <td>1.059128e+02</td>\n      <td>4.111860e-01</td>\n      <td>1.085432e-01</td>\n      <td>4.809877e-01</td>\n      <td>4.125978e-02</td>\n      <td>3.818382e-01</td>\n      <td>3.821774e-01</td>\n      <td>2.309428e-01</td>\n      <td>2.309777e-01</td>\n    </tr>\n    <tr>\n      <th>min</th>\n      <td>0.000000e+00</td>\n      <td>0.000000e+00</td>\n      <td>0.000000e+00</td>\n      <td>0.000000e+00</td>\n      <td>0.000000e+00</td>\n      <td>0.000000e+00</td>\n      <td>0.000000e+00</td>\n      <td>0.000000e+00</td>\n      <td>0.000000e+00</td>\n      <td>0.000000e+00</td>\n      <td>...</td>\n      <td>0.000000e+00</td>\n      <td>0.000000e+00</td>\n      <td>0.000000e+00</td>\n      <td>0.000000e+00</td>\n      <td>0.000000e+00</td>\n      <td>0.000000e+00</td>\n      <td>0.000000e+00</td>\n      <td>0.000000e+00</td>\n      <td>0.000000e+00</td>\n      <td>0.000000e+00</td>\n    </tr>\n    <tr>\n      <th>25%</th>\n      <td>0.000000e+00</td>\n      <td>4.500000e+01</td>\n      <td>0.000000e+00</td>\n      <td>0.000000e+00</td>\n      <td>0.000000e+00</td>\n      <td>0.000000e+00</td>\n      <td>0.000000e+00</td>\n      <td>0.000000e+00</td>\n      <td>0.000000e+00</td>\n      <td>0.000000e+00</td>\n      <td>...</td>\n      <td>2.550000e+02</td>\n      <td>4.900000e+01</td>\n      <td>4.100000e-01</td>\n      <td>0.000000e+00</td>\n      <td>0.000000e+00</td>\n      <td>0.000000e+00</td>\n      <td>0.000000e+00</td>\n      <td>0.000000e+00</td>\n      <td>0.000000e+00</td>\n      <td>0.000000e+00</td>\n    </tr>\n    <tr>\n      <th>50%</th>\n      <td>0.000000e+00</td>\n      <td>5.200000e+02</td>\n      <td>0.000000e+00</td>\n      <td>0.000000e+00</td>\n      <td>0.000000e+00</td>\n      <td>0.000000e+00</td>\n      <td>0.000000e+00</td>\n      <td>0.000000e+00</td>\n      <td>0.000000e+00</td>\n      <td>0.000000e+00</td>\n      <td>...</td>\n      <td>2.550000e+02</td>\n      <td>2.550000e+02</td>\n      <td>1.000000e+00</td>\n      <td>0.000000e+00</td>\n      <td>1.000000e+00</td>\n      <td>0.000000e+00</td>\n      <td>0.000000e+00</td>\n      <td>0.000000e+00</td>\n      <td>0.000000e+00</td>\n      <td>0.000000e+00</td>\n    </tr>\n    <tr>\n      <th>75%</th>\n      <td>0.000000e+00</td>\n      <td>1.032000e+03</td>\n      <td>0.000000e+00</td>\n      <td>0.000000e+00</td>\n      <td>0.000000e+00</td>\n      <td>0.000000e+00</td>\n      <td>0.000000e+00</td>\n      <td>0.000000e+00</td>\n      <td>0.000000e+00</td>\n      <td>0.000000e+00</td>\n      <td>...</td>\n      <td>2.550000e+02</td>\n      <td>2.550000e+02</td>\n      <td>1.000000e+00</td>\n      <td>4.000000e-02</td>\n      <td>1.000000e+00</td>\n      <td>0.000000e+00</td>\n      <td>0.000000e+00</td>\n      <td>0.000000e+00</td>\n      <td>0.000000e+00</td>\n      <td>0.000000e+00</td>\n    </tr>\n    <tr>\n      <th>max</th>\n      <td>5.832900e+04</td>\n      <td>1.379964e+09</td>\n      <td>1.309937e+09</td>\n      <td>1.000000e+00</td>\n      <td>3.000000e+00</td>\n      <td>1.400000e+01</td>\n      <td>7.700000e+01</td>\n      <td>5.000000e+00</td>\n      <td>1.000000e+00</td>\n      <td>7.479000e+03</td>\n      <td>...</td>\n      <td>2.550000e+02</td>\n      <td>2.550000e+02</td>\n      <td>1.000000e+00</td>\n      <td>1.000000e+00</td>\n      <td>1.000000e+00</td>\n      <td>1.000000e+00</td>\n      <td>1.000000e+00</td>\n      <td>1.000000e+00</td>\n      <td>1.000000e+00</td>\n      <td>1.000000e+00</td>\n    </tr>\n  </tbody>\n</table>\n<p>8 rows × 38 columns</p>\n</div>"
     },
     "execution_count": 4,
     "metadata": {},
     "output_type": "execute_result"
    }
   ],
   "source": [
    "# Get basic information about the dataset\n",
    "df.info()\n",
    "\n",
    "# Get a summary of the numerical columns\n",
    "df.describe()"
   ],
   "metadata": {
    "collapsed": false
   }
  },
  {
   "cell_type": "markdown",
   "source": [
    "#### b. Check for Missing Values"
   ],
   "metadata": {
    "collapsed": false
   }
  },
  {
   "cell_type": "code",
   "execution_count": 5,
   "outputs": [
    {
     "data": {
      "text/plain": "Series([], dtype: int64)"
     },
     "execution_count": 5,
     "metadata": {},
     "output_type": "execute_result"
    }
   ],
   "source": [
    "# Check for any missing values in the dataset\n",
    "missing_values = df.isnull().sum()\n",
    "\n",
    "# Display columns with missing values (if any)\n",
    "missing_values[missing_values > 0]"
   ],
   "metadata": {
    "collapsed": false
   }
  },
  {
   "cell_type": "markdown",
   "source": [
    "There are no missing values in the dataset. This means you can proceed without having to handle null or NaN entries, making the preprocessing stage smoother.\n",
    "\n",
    "#### c. Explore the Target Variable (Labels)"
   ],
   "metadata": {
    "collapsed": false
   }
  },
  {
   "cell_type": "code",
   "execution_count": 6,
   "outputs": [
    {
     "data": {
      "text/plain": "label\nsmurf.              2807886\nneptune.            1072017\nnormal.              972781\nsatan.                15892\nipsweep.              12481\nportsweep.            10413\nnmap.                  2316\nback.                  2203\nwarezclient.           1020\nteardrop.               979\npod.                    264\nguess_passwd.            53\nbuffer_overflow.         30\nland.                    21\nwarezmaster.             20\nimap.                    12\nrootkit.                 10\nloadmodule.               9\nftp_write.                8\nmultihop.                 7\nphf.                      4\nperl.                     3\nspy.                      2\nName: count, dtype: int64"
     },
     "execution_count": 6,
     "metadata": {},
     "output_type": "execute_result"
    }
   ],
   "source": [
    "# Check the distribution of the 'label' column\n",
    "df['label'].value_counts()"
   ],
   "metadata": {
    "collapsed": false
   }
  },
  {
   "cell_type": "markdown",
   "source": [
    "The distribution of the label column shows the following insights:\n",
    "\n",
    "1. \"smurf.\" and \"neptune.\" are the most frequent attack types, with 2,807,886 and 1,072,017 occurrences, respectively.\n",
    "2. \"normal.\" interactions (non-malicious traffic) appear 972,781 times, which is less frequent than \"smurf.\" attacks but more than other types.\n",
    "3. The dataset contains a variety of attacks, including but not limited to \"back.\", \"satan.\", \"ipsweep.\", and \"portsweep.\", among others. Each of these represents different methods or vectors of cyberattacks.\n",
    "4. Some attacks, like \"perl.\", \"spy.\", and \"phf.\", are relatively rare in this dataset.\n",
    "\n",
    "This distribution provides insights into the balance (or imbalance) of the dataset regarding normal vs. malicious traffic. This is important when modeling, as a highly imbalanced dataset might require strategies like resampling or using specific evaluation metrics to get a model that performs well across all categories."
   ],
   "metadata": {
    "collapsed": false
   }
  },
  {
   "cell_type": "markdown",
   "source": [
    "#### d. Explore Feature Types"
   ],
   "metadata": {
    "collapsed": false
   }
  },
  {
   "cell_type": "code",
   "execution_count": 7,
   "outputs": [
    {
     "data": {
      "text/plain": "duration                         int64\nprotocol_type                   object\nservice                         object\nflag                            object\nsrc_bytes                        int64\ndst_bytes                        int64\nland                             int64\nwrong_fragment                   int64\nurgent                           int64\nhot                              int64\nnum_failed_logins                int64\nlogged_in                        int64\nnum_compromised                  int64\nroot_shell                       int64\nsu_attempted                     int64\nnum_root                         int64\nnum_file_creations               int64\nnum_shells                       int64\nnum_access_files                 int64\nnum_outbound_cmds                int64\nis_host_login                    int64\nis_guest_login                   int64\ncount                            int64\nsrv_count                        int64\nserror_rate                    float64\nsrv_serror_rate                float64\nrerror_rate                    float64\nsrv_rerror_rate                float64\nsame_srv_rate                  float64\ndiff_srv_rate                  float64\nsrv_diff_host_rate             float64\ndst_host_count                   int64\ndst_host_srv_count               int64\ndst_host_same_srv_rate         float64\ndst_host_diff_srv_rate         float64\ndst_host_same_src_port_rate    float64\ndst_host_srv_diff_host_rate    float64\ndst_host_serror_rate           float64\ndst_host_srv_serror_rate       float64\ndst_host_rerror_rate           float64\ndst_host_srv_rerror_rate       float64\nlabel                           object\ndtype: object"
     },
     "execution_count": 7,
     "metadata": {},
     "output_type": "execute_result"
    }
   ],
   "source": [
    "# Check the data types of each column\n",
    "df.dtypes"
   ],
   "metadata": {
    "collapsed": false
   }
  },
  {
   "cell_type": "markdown",
   "source": [
    "#### e. Explore Categorical Features\n",
    "\n",
    "The KDD Cup 1999 dataset contains some categorical features. Let's explore their unique values:"
   ],
   "metadata": {
    "collapsed": false
   }
  },
  {
   "cell_type": "code",
   "execution_count": 8,
   "outputs": [
    {
     "name": "stdout",
     "output_type": "stream",
     "text": [
      "\n",
      "Unique values for protocol_type:\n",
      "protocol_type\n",
      "icmp    2833545\n",
      "tcp     1870598\n",
      "udp      194288\n",
      "Name: count, dtype: int64\n",
      "\n",
      "Unique values for service:\n",
      "service\n",
      "ecr_i        2811660\n",
      "private      1100831\n",
      "http          623091\n",
      "smtp           96554\n",
      "other          72653\n",
      "              ...   \n",
      "tftp_u             3\n",
      "harvest            2\n",
      "aol                2\n",
      "http_8001          2\n",
      "http_2784          1\n",
      "Name: count, Length: 70, dtype: int64\n",
      "\n",
      "Unique values for flag:\n",
      "flag\n",
      "SF        3744328\n",
      "S0         869829\n",
      "REJ        268874\n",
      "RSTR         8094\n",
      "RSTO         5344\n",
      "SH           1040\n",
      "S1            532\n",
      "S2            161\n",
      "RSTOS0        122\n",
      "OTH            57\n",
      "S3             50\n",
      "Name: count, dtype: int64\n",
      "\n",
      "Unique values for label:\n",
      "label\n",
      "smurf.              2807886\n",
      "neptune.            1072017\n",
      "normal.              972781\n",
      "satan.                15892\n",
      "ipsweep.              12481\n",
      "portsweep.            10413\n",
      "nmap.                  2316\n",
      "back.                  2203\n",
      "warezclient.           1020\n",
      "teardrop.               979\n",
      "pod.                    264\n",
      "guess_passwd.            53\n",
      "buffer_overflow.         30\n",
      "land.                    21\n",
      "warezmaster.             20\n",
      "imap.                    12\n",
      "rootkit.                 10\n",
      "loadmodule.               9\n",
      "ftp_write.                8\n",
      "multihop.                 7\n",
      "phf.                      4\n",
      "perl.                     3\n",
      "spy.                      2\n",
      "Name: count, dtype: int64\n"
     ]
    }
   ],
   "source": [
    "categorical_features = df.select_dtypes(include=['object']).columns\n",
    "for feature in categorical_features:\n",
    "    print(f\"\\nUnique values for {feature}:\")\n",
    "    print(df[feature].value_counts())\n"
   ],
   "metadata": {
    "collapsed": false
   }
  },
  {
   "cell_type": "markdown",
   "source": [
    "The KDD cup dataset is consists of 3 main protocol types:\n",
    "\n",
    "1. icmp\n",
    "2. tcp\n",
    "3. udp\n",
    "\n",
    "And 22 different attack types:\n",
    "1. back\n",
    "2. buffer_overflow\n",
    "3. ftp_write\n",
    "4. guess_passwd\n",
    "5. imap\n",
    "6. ipsweep\n",
    "7. land\n",
    "8. loadmodule\n",
    "9. multihop\n",
    "10. neptune\n",
    "11. nmap\n",
    "12. perl\n",
    "13. phf\n",
    "14. pod\n",
    "15. portsweep\n",
    "16. rootkit\n",
    "17. satan\n",
    "18. smurf\n",
    "19. spy\n",
    "20. teardrop\n",
    "21. warezclient\n",
    "22. warezmaster"
   ],
   "metadata": {
    "collapsed": false
   }
  },
  {
   "cell_type": "code",
   "execution_count": null,
   "outputs": [],
   "source": [],
   "metadata": {
    "collapsed": false
   }
  }
 ],
 "metadata": {
  "kernelspec": {
   "display_name": "Python 3",
   "language": "python",
   "name": "python3"
  },
  "language_info": {
   "codemirror_mode": {
    "name": "ipython",
    "version": 2
   },
   "file_extension": ".py",
   "mimetype": "text/x-python",
   "name": "python",
   "nbconvert_exporter": "python",
   "pygments_lexer": "ipython2",
   "version": "2.7.6"
  }
 },
 "nbformat": 4,
 "nbformat_minor": 0
}
